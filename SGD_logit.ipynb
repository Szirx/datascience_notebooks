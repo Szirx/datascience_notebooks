{
  "cells": [
    {
      "cell_type": "code",
      "source": [
        "import numpy as np\n",
        "import pandas as pd"
      ],
      "metadata": {
        "id": "NF6WR9SFsX4N"
      },
      "id": "NF6WR9SFsX4N",
      "execution_count": 1,
      "outputs": []
    },
    {
      "cell_type": "code",
      "source": [
        "data = pd.read_csv('IMDB Dataset.csv')"
      ],
      "metadata": {
        "id": "_Z4aPmhxsbWu"
      },
      "id": "_Z4aPmhxsbWu",
      "execution_count": 3,
      "outputs": []
    },
    {
      "cell_type": "code",
      "source": [
        "data.head(5)"
      ],
      "metadata": {
        "colab": {
          "base_uri": "https://localhost:8080/",
          "height": 206
        },
        "id": "H8FtO_Zbsgm8",
        "outputId": "f56e9ad4-4319-4755-b4a0-f0a7fafae178"
      },
      "id": "H8FtO_Zbsgm8",
      "execution_count": 4,
      "outputs": [
        {
          "output_type": "execute_result",
          "data": {
            "text/plain": [
              "                                              review sentiment\n",
              "0  One of the other reviewers has mentioned that ...  positive\n",
              "1  A wonderful little production. <br /><br />The...  positive\n",
              "2  I thought this was a wonderful way to spend ti...  positive\n",
              "3  Basically there's a family where a little boy ...  negative\n",
              "4  Petter Mattei's \"Love in the Time of Money\" is...  positive"
            ],
            "text/html": [
              "\n",
              "  <div id=\"df-ec3c0151-5df0-4b5a-a794-c5a22cf806d1\">\n",
              "    <div class=\"colab-df-container\">\n",
              "      <div>\n",
              "<style scoped>\n",
              "    .dataframe tbody tr th:only-of-type {\n",
              "        vertical-align: middle;\n",
              "    }\n",
              "\n",
              "    .dataframe tbody tr th {\n",
              "        vertical-align: top;\n",
              "    }\n",
              "\n",
              "    .dataframe thead th {\n",
              "        text-align: right;\n",
              "    }\n",
              "</style>\n",
              "<table border=\"1\" class=\"dataframe\">\n",
              "  <thead>\n",
              "    <tr style=\"text-align: right;\">\n",
              "      <th></th>\n",
              "      <th>review</th>\n",
              "      <th>sentiment</th>\n",
              "    </tr>\n",
              "  </thead>\n",
              "  <tbody>\n",
              "    <tr>\n",
              "      <th>0</th>\n",
              "      <td>One of the other reviewers has mentioned that ...</td>\n",
              "      <td>positive</td>\n",
              "    </tr>\n",
              "    <tr>\n",
              "      <th>1</th>\n",
              "      <td>A wonderful little production. &lt;br /&gt;&lt;br /&gt;The...</td>\n",
              "      <td>positive</td>\n",
              "    </tr>\n",
              "    <tr>\n",
              "      <th>2</th>\n",
              "      <td>I thought this was a wonderful way to spend ti...</td>\n",
              "      <td>positive</td>\n",
              "    </tr>\n",
              "    <tr>\n",
              "      <th>3</th>\n",
              "      <td>Basically there's a family where a little boy ...</td>\n",
              "      <td>negative</td>\n",
              "    </tr>\n",
              "    <tr>\n",
              "      <th>4</th>\n",
              "      <td>Petter Mattei's \"Love in the Time of Money\" is...</td>\n",
              "      <td>positive</td>\n",
              "    </tr>\n",
              "  </tbody>\n",
              "</table>\n",
              "</div>\n",
              "      <button class=\"colab-df-convert\" onclick=\"convertToInteractive('df-ec3c0151-5df0-4b5a-a794-c5a22cf806d1')\"\n",
              "              title=\"Convert this dataframe to an interactive table.\"\n",
              "              style=\"display:none;\">\n",
              "        \n",
              "  <svg xmlns=\"http://www.w3.org/2000/svg\" height=\"24px\"viewBox=\"0 0 24 24\"\n",
              "       width=\"24px\">\n",
              "    <path d=\"M0 0h24v24H0V0z\" fill=\"none\"/>\n",
              "    <path d=\"M18.56 5.44l.94 2.06.94-2.06 2.06-.94-2.06-.94-.94-2.06-.94 2.06-2.06.94zm-11 1L8.5 8.5l.94-2.06 2.06-.94-2.06-.94L8.5 2.5l-.94 2.06-2.06.94zm10 10l.94 2.06.94-2.06 2.06-.94-2.06-.94-.94-2.06-.94 2.06-2.06.94z\"/><path d=\"M17.41 7.96l-1.37-1.37c-.4-.4-.92-.59-1.43-.59-.52 0-1.04.2-1.43.59L10.3 9.45l-7.72 7.72c-.78.78-.78 2.05 0 2.83L4 21.41c.39.39.9.59 1.41.59.51 0 1.02-.2 1.41-.59l7.78-7.78 2.81-2.81c.8-.78.8-2.07 0-2.86zM5.41 20L4 18.59l7.72-7.72 1.47 1.35L5.41 20z\"/>\n",
              "  </svg>\n",
              "      </button>\n",
              "      \n",
              "  <style>\n",
              "    .colab-df-container {\n",
              "      display:flex;\n",
              "      flex-wrap:wrap;\n",
              "      gap: 12px;\n",
              "    }\n",
              "\n",
              "    .colab-df-convert {\n",
              "      background-color: #E8F0FE;\n",
              "      border: none;\n",
              "      border-radius: 50%;\n",
              "      cursor: pointer;\n",
              "      display: none;\n",
              "      fill: #1967D2;\n",
              "      height: 32px;\n",
              "      padding: 0 0 0 0;\n",
              "      width: 32px;\n",
              "    }\n",
              "\n",
              "    .colab-df-convert:hover {\n",
              "      background-color: #E2EBFA;\n",
              "      box-shadow: 0px 1px 2px rgba(60, 64, 67, 0.3), 0px 1px 3px 1px rgba(60, 64, 67, 0.15);\n",
              "      fill: #174EA6;\n",
              "    }\n",
              "\n",
              "    [theme=dark] .colab-df-convert {\n",
              "      background-color: #3B4455;\n",
              "      fill: #D2E3FC;\n",
              "    }\n",
              "\n",
              "    [theme=dark] .colab-df-convert:hover {\n",
              "      background-color: #434B5C;\n",
              "      box-shadow: 0px 1px 3px 1px rgba(0, 0, 0, 0.15);\n",
              "      filter: drop-shadow(0px 1px 2px rgba(0, 0, 0, 0.3));\n",
              "      fill: #FFFFFF;\n",
              "    }\n",
              "  </style>\n",
              "\n",
              "      <script>\n",
              "        const buttonEl =\n",
              "          document.querySelector('#df-ec3c0151-5df0-4b5a-a794-c5a22cf806d1 button.colab-df-convert');\n",
              "        buttonEl.style.display =\n",
              "          google.colab.kernel.accessAllowed ? 'block' : 'none';\n",
              "\n",
              "        async function convertToInteractive(key) {\n",
              "          const element = document.querySelector('#df-ec3c0151-5df0-4b5a-a794-c5a22cf806d1');\n",
              "          const dataTable =\n",
              "            await google.colab.kernel.invokeFunction('convertToInteractive',\n",
              "                                                     [key], {});\n",
              "          if (!dataTable) return;\n",
              "\n",
              "          const docLinkHtml = 'Like what you see? Visit the ' +\n",
              "            '<a target=\"_blank\" href=https://colab.research.google.com/notebooks/data_table.ipynb>data table notebook</a>'\n",
              "            + ' to learn more about interactive tables.';\n",
              "          element.innerHTML = '';\n",
              "          dataTable['output_type'] = 'display_data';\n",
              "          await google.colab.output.renderOutput(dataTable, element);\n",
              "          const docLink = document.createElement('div');\n",
              "          docLink.innerHTML = docLinkHtml;\n",
              "          element.appendChild(docLink);\n",
              "        }\n",
              "      </script>\n",
              "    </div>\n",
              "  </div>\n",
              "  "
            ]
          },
          "metadata": {},
          "execution_count": 4
        }
      ]
    },
    {
      "cell_type": "code",
      "source": [
        "data['sentiment'].value_counts()"
      ],
      "metadata": {
        "colab": {
          "base_uri": "https://localhost:8080/"
        },
        "id": "YWSEJf57t_aR",
        "outputId": "d5df3bb6-aed2-41c7-c9d6-546479db36e0"
      },
      "id": "YWSEJf57t_aR",
      "execution_count": 5,
      "outputs": [
        {
          "output_type": "execute_result",
          "data": {
            "text/plain": [
              "positive    25000\n",
              "negative    25000\n",
              "Name: sentiment, dtype: int64"
            ]
          },
          "metadata": {},
          "execution_count": 5
        }
      ]
    },
    {
      "cell_type": "code",
      "source": [
        "data['review'].head(5)"
      ],
      "metadata": {
        "colab": {
          "base_uri": "https://localhost:8080/"
        },
        "id": "1srLyEsTvct4",
        "outputId": "be7ef390-6aec-4d3d-ed7a-921152c7a169"
      },
      "id": "1srLyEsTvct4",
      "execution_count": 9,
      "outputs": [
        {
          "output_type": "execute_result",
          "data": {
            "text/plain": [
              "0    One of the other reviewers has mentioned that ...\n",
              "1    A wonderful little production. <br /><br />The...\n",
              "2    I thought this was a wonderful way to spend ti...\n",
              "3    Basically there's a family where a little boy ...\n",
              "4    Petter Mattei's \"Love in the Time of Money\" is...\n",
              "Name: review, dtype: object"
            ]
          },
          "metadata": {},
          "execution_count": 9
        }
      ]
    },
    {
      "cell_type": "code",
      "source": [
        "for c in data[data['sentiment'] == 'positive']['review'].head(5):\n",
        "  print(c)"
      ],
      "metadata": {
        "colab": {
          "base_uri": "https://localhost:8080/"
        },
        "id": "KEFDePF2vu8Q",
        "outputId": "fbdce60a-42df-469b-c95c-4cef0ca9bf89"
      },
      "id": "KEFDePF2vu8Q",
      "execution_count": 11,
      "outputs": [
        {
          "output_type": "stream",
          "name": "stdout",
          "text": [
            "One of the other reviewers has mentioned that after watching just 1 Oz episode you'll be hooked. They are right, as this is exactly what happened with me.<br /><br />The first thing that struck me about Oz was its brutality and unflinching scenes of violence, which set in right from the word GO. Trust me, this is not a show for the faint hearted or timid. This show pulls no punches with regards to drugs, sex or violence. Its is hardcore, in the classic use of the word.<br /><br />It is called OZ as that is the nickname given to the Oswald Maximum Security State Penitentary. It focuses mainly on Emerald City, an experimental section of the prison where all the cells have glass fronts and face inwards, so privacy is not high on the agenda. Em City is home to many..Aryans, Muslims, gangstas, Latinos, Christians, Italians, Irish and more....so scuffles, death stares, dodgy dealings and shady agreements are never far away.<br /><br />I would say the main appeal of the show is due to the fact that it goes where other shows wouldn't dare. Forget pretty pictures painted for mainstream audiences, forget charm, forget romance...OZ doesn't mess around. The first episode I ever saw struck me as so nasty it was surreal, I couldn't say I was ready for it, but as I watched more, I developed a taste for Oz, and got accustomed to the high levels of graphic violence. Not just violence, but injustice (crooked guards who'll be sold out for a nickel, inmates who'll kill on order and get away with it, well mannered, middle class inmates being turned into prison bitches due to their lack of street skills or prison experience) Watching Oz, you may become comfortable with what is uncomfortable viewing....thats if you can get in touch with your darker side.\n",
            "A wonderful little production. <br /><br />The filming technique is very unassuming- very old-time-BBC fashion and gives a comforting, and sometimes discomforting, sense of realism to the entire piece. <br /><br />The actors are extremely well chosen- Michael Sheen not only \"has got all the polari\" but he has all the voices down pat too! You can truly see the seamless editing guided by the references to Williams' diary entries, not only is it well worth the watching but it is a terrificly written and performed piece. A masterful production about one of the great master's of comedy and his life. <br /><br />The realism really comes home with the little things: the fantasy of the guard which, rather than use the traditional 'dream' techniques remains solid then disappears. It plays on our knowledge and our senses, particularly with the scenes concerning Orton and Halliwell and the sets (particularly of their flat with Halliwell's murals decorating every surface) are terribly well done.\n",
            "I thought this was a wonderful way to spend time on a too hot summer weekend, sitting in the air conditioned theater and watching a light-hearted comedy. The plot is simplistic, but the dialogue is witty and the characters are likable (even the well bread suspected serial killer). While some may be disappointed when they realize this is not Match Point 2: Risk Addiction, I thought it was proof that Woody Allen is still fully in control of the style many of us have grown to love.<br /><br />This was the most I'd laughed at one of Woody's comedies in years (dare I say a decade?). While I've never been impressed with Scarlet Johanson, in this she managed to tone down her \"sexy\" image and jumped right into a average, but spirited young woman.<br /><br />This may not be the crown jewel of his career, but it was wittier than \"Devil Wears Prada\" and more interesting than \"Superman\" a great comedy to go see with friends.\n",
            "Petter Mattei's \"Love in the Time of Money\" is a visually stunning film to watch. Mr. Mattei offers us a vivid portrait about human relations. This is a movie that seems to be telling us what money, power and success do to people in the different situations we encounter. <br /><br />This being a variation on the Arthur Schnitzler's play about the same theme, the director transfers the action to the present time New York where all these different characters meet and connect. Each one is connected in one way, or another to the next person, but no one seems to know the previous point of contact. Stylishly, the film has a sophisticated luxurious look. We are taken to see how these people live and the world they live in their own habitat.<br /><br />The only thing one gets out of all these souls in the picture is the different stages of loneliness each one inhabits. A big city is not exactly the best place in which human relations find sincere fulfillment, as one discerns is the case with most of the people we encounter.<br /><br />The acting is good under Mr. Mattei's direction. Steve Buscemi, Rosario Dawson, Carol Kane, Michael Imperioli, Adrian Grenier, and the rest of the talented cast, make these characters come alive.<br /><br />We wish Mr. Mattei good luck and await anxiously for his next work.\n",
            "Probably my all-time favorite movie, a story of selflessness, sacrifice and dedication to a noble cause, but it's not preachy or boring. It just never gets old, despite my having seen it some 15 or more times in the last 25 years. Paul Lukas' performance brings tears to my eyes, and Bette Davis, in one of her very few truly sympathetic roles, is a delight. The kids are, as grandma says, more like \"dressed-up midgets\" than children, but that only makes them more fun to watch. And the mother's slow awakening to what's happening in the world and under her own roof is believable and startling. If I had a dozen thumbs, they'd all be \"up\" for this movie.\n"
          ]
        }
      ]
    },
    {
      "cell_type": "code",
      "source": [
        "data.sentiment"
      ],
      "metadata": {
        "colab": {
          "base_uri": "https://localhost:8080/"
        },
        "id": "-URhRCVTwWDC",
        "outputId": "4978d9e9-d9c8-4c22-cd61-b9467107b818"
      },
      "id": "-URhRCVTwWDC",
      "execution_count": 13,
      "outputs": [
        {
          "output_type": "execute_result",
          "data": {
            "text/plain": [
              "0        positive\n",
              "1        positive\n",
              "2        positive\n",
              "3        negative\n",
              "4        positive\n",
              "           ...   \n",
              "49995    positive\n",
              "49996    negative\n",
              "49997    negative\n",
              "49998    negative\n",
              "49999    negative\n",
              "Name: sentiment, Length: 50000, dtype: object"
            ]
          },
          "metadata": {},
          "execution_count": 13
        }
      ]
    },
    {
      "cell_type": "code",
      "source": [
        "data['sentiment'] = data['sentiment'].map({'positive': 1, 'negative': 0})"
      ],
      "metadata": {
        "id": "f44a-bDNwrYB"
      },
      "id": "f44a-bDNwrYB",
      "execution_count": 16,
      "outputs": []
    },
    {
      "cell_type": "code",
      "source": [
        "data.head(5)"
      ],
      "metadata": {
        "colab": {
          "base_uri": "https://localhost:8080/",
          "height": 206
        },
        "id": "LOru9SJAxHyV",
        "outputId": "87cea777-8f39-474b-8edb-cea936ef4151"
      },
      "id": "LOru9SJAxHyV",
      "execution_count": 17,
      "outputs": [
        {
          "output_type": "execute_result",
          "data": {
            "text/plain": [
              "                                              review  sentiment\n",
              "0  One of the other reviewers has mentioned that ...          1\n",
              "1  A wonderful little production. <br /><br />The...          1\n",
              "2  I thought this was a wonderful way to spend ti...          1\n",
              "3  Basically there's a family where a little boy ...          0\n",
              "4  Petter Mattei's \"Love in the Time of Money\" is...          1"
            ],
            "text/html": [
              "\n",
              "  <div id=\"df-84362ac5-7f26-4b3b-bf72-01c67edd2f81\">\n",
              "    <div class=\"colab-df-container\">\n",
              "      <div>\n",
              "<style scoped>\n",
              "    .dataframe tbody tr th:only-of-type {\n",
              "        vertical-align: middle;\n",
              "    }\n",
              "\n",
              "    .dataframe tbody tr th {\n",
              "        vertical-align: top;\n",
              "    }\n",
              "\n",
              "    .dataframe thead th {\n",
              "        text-align: right;\n",
              "    }\n",
              "</style>\n",
              "<table border=\"1\" class=\"dataframe\">\n",
              "  <thead>\n",
              "    <tr style=\"text-align: right;\">\n",
              "      <th></th>\n",
              "      <th>review</th>\n",
              "      <th>sentiment</th>\n",
              "    </tr>\n",
              "  </thead>\n",
              "  <tbody>\n",
              "    <tr>\n",
              "      <th>0</th>\n",
              "      <td>One of the other reviewers has mentioned that ...</td>\n",
              "      <td>1</td>\n",
              "    </tr>\n",
              "    <tr>\n",
              "      <th>1</th>\n",
              "      <td>A wonderful little production. &lt;br /&gt;&lt;br /&gt;The...</td>\n",
              "      <td>1</td>\n",
              "    </tr>\n",
              "    <tr>\n",
              "      <th>2</th>\n",
              "      <td>I thought this was a wonderful way to spend ti...</td>\n",
              "      <td>1</td>\n",
              "    </tr>\n",
              "    <tr>\n",
              "      <th>3</th>\n",
              "      <td>Basically there's a family where a little boy ...</td>\n",
              "      <td>0</td>\n",
              "    </tr>\n",
              "    <tr>\n",
              "      <th>4</th>\n",
              "      <td>Petter Mattei's \"Love in the Time of Money\" is...</td>\n",
              "      <td>1</td>\n",
              "    </tr>\n",
              "  </tbody>\n",
              "</table>\n",
              "</div>\n",
              "      <button class=\"colab-df-convert\" onclick=\"convertToInteractive('df-84362ac5-7f26-4b3b-bf72-01c67edd2f81')\"\n",
              "              title=\"Convert this dataframe to an interactive table.\"\n",
              "              style=\"display:none;\">\n",
              "        \n",
              "  <svg xmlns=\"http://www.w3.org/2000/svg\" height=\"24px\"viewBox=\"0 0 24 24\"\n",
              "       width=\"24px\">\n",
              "    <path d=\"M0 0h24v24H0V0z\" fill=\"none\"/>\n",
              "    <path d=\"M18.56 5.44l.94 2.06.94-2.06 2.06-.94-2.06-.94-.94-2.06-.94 2.06-2.06.94zm-11 1L8.5 8.5l.94-2.06 2.06-.94-2.06-.94L8.5 2.5l-.94 2.06-2.06.94zm10 10l.94 2.06.94-2.06 2.06-.94-2.06-.94-.94-2.06-.94 2.06-2.06.94z\"/><path d=\"M17.41 7.96l-1.37-1.37c-.4-.4-.92-.59-1.43-.59-.52 0-1.04.2-1.43.59L10.3 9.45l-7.72 7.72c-.78.78-.78 2.05 0 2.83L4 21.41c.39.39.9.59 1.41.59.51 0 1.02-.2 1.41-.59l7.78-7.78 2.81-2.81c.8-.78.8-2.07 0-2.86zM5.41 20L4 18.59l7.72-7.72 1.47 1.35L5.41 20z\"/>\n",
              "  </svg>\n",
              "      </button>\n",
              "      \n",
              "  <style>\n",
              "    .colab-df-container {\n",
              "      display:flex;\n",
              "      flex-wrap:wrap;\n",
              "      gap: 12px;\n",
              "    }\n",
              "\n",
              "    .colab-df-convert {\n",
              "      background-color: #E8F0FE;\n",
              "      border: none;\n",
              "      border-radius: 50%;\n",
              "      cursor: pointer;\n",
              "      display: none;\n",
              "      fill: #1967D2;\n",
              "      height: 32px;\n",
              "      padding: 0 0 0 0;\n",
              "      width: 32px;\n",
              "    }\n",
              "\n",
              "    .colab-df-convert:hover {\n",
              "      background-color: #E2EBFA;\n",
              "      box-shadow: 0px 1px 2px rgba(60, 64, 67, 0.3), 0px 1px 3px 1px rgba(60, 64, 67, 0.15);\n",
              "      fill: #174EA6;\n",
              "    }\n",
              "\n",
              "    [theme=dark] .colab-df-convert {\n",
              "      background-color: #3B4455;\n",
              "      fill: #D2E3FC;\n",
              "    }\n",
              "\n",
              "    [theme=dark] .colab-df-convert:hover {\n",
              "      background-color: #434B5C;\n",
              "      box-shadow: 0px 1px 3px 1px rgba(0, 0, 0, 0.15);\n",
              "      filter: drop-shadow(0px 1px 2px rgba(0, 0, 0, 0.3));\n",
              "      fill: #FFFFFF;\n",
              "    }\n",
              "  </style>\n",
              "\n",
              "      <script>\n",
              "        const buttonEl =\n",
              "          document.querySelector('#df-84362ac5-7f26-4b3b-bf72-01c67edd2f81 button.colab-df-convert');\n",
              "        buttonEl.style.display =\n",
              "          google.colab.kernel.accessAllowed ? 'block' : 'none';\n",
              "\n",
              "        async function convertToInteractive(key) {\n",
              "          const element = document.querySelector('#df-84362ac5-7f26-4b3b-bf72-01c67edd2f81');\n",
              "          const dataTable =\n",
              "            await google.colab.kernel.invokeFunction('convertToInteractive',\n",
              "                                                     [key], {});\n",
              "          if (!dataTable) return;\n",
              "\n",
              "          const docLinkHtml = 'Like what you see? Visit the ' +\n",
              "            '<a target=\"_blank\" href=https://colab.research.google.com/notebooks/data_table.ipynb>data table notebook</a>'\n",
              "            + ' to learn more about interactive tables.';\n",
              "          element.innerHTML = '';\n",
              "          dataTable['output_type'] = 'display_data';\n",
              "          await google.colab.output.renderOutput(dataTable, element);\n",
              "          const docLink = document.createElement('div');\n",
              "          docLink.innerHTML = docLinkHtml;\n",
              "          element.appendChild(docLink);\n",
              "        }\n",
              "      </script>\n",
              "    </div>\n",
              "  </div>\n",
              "  "
            ]
          },
          "metadata": {},
          "execution_count": 17
        }
      ]
    },
    {
      "cell_type": "markdown",
      "source": [
        "**BOW -- Bag of Words**"
      ],
      "metadata": {
        "id": "ZPj3_Yf9xXQj"
      },
      "id": "ZPj3_Yf9xXQj"
    },
    {
      "cell_type": "code",
      "source": [
        "from scipy.sparse import csr_matrix"
      ],
      "metadata": {
        "id": "QP8HA575xJKa"
      },
      "id": "QP8HA575xJKa",
      "execution_count": 19,
      "outputs": []
    },
    {
      "cell_type": "code",
      "source": [
        "a = np.zeros([5, 5])\n",
        "a[2, 2] = 5\n",
        "a[4, 4] = 6\n",
        "a[0, 3] = 1\n",
        "a[3, 1] = 4\n",
        "a[3, 2] = 2\n",
        "a[1, 1] = 7"
      ],
      "metadata": {
        "id": "JtwC8cJtxzwV"
      },
      "id": "JtwC8cJtxzwV",
      "execution_count": 22,
      "outputs": []
    },
    {
      "cell_type": "code",
      "source": [
        "a"
      ],
      "metadata": {
        "colab": {
          "base_uri": "https://localhost:8080/"
        },
        "id": "MxPYRyRix55r",
        "outputId": "90305fc7-a835-4479-eec7-001584ac1db0"
      },
      "id": "MxPYRyRix55r",
      "execution_count": 23,
      "outputs": [
        {
          "output_type": "execute_result",
          "data": {
            "text/plain": [
              "array([[0., 0., 0., 1., 0.],\n",
              "       [0., 7., 0., 0., 0.],\n",
              "       [0., 0., 5., 0., 0.],\n",
              "       [0., 4., 2., 0., 0.],\n",
              "       [0., 0., 0., 0., 6.]])"
            ]
          },
          "metadata": {},
          "execution_count": 23
        }
      ]
    },
    {
      "cell_type": "code",
      "source": [
        "pd.DataFrame(a, columns=['apple', 'wax', 'sadness', 'luck', 'girl'])"
      ],
      "metadata": {
        "colab": {
          "base_uri": "https://localhost:8080/",
          "height": 206
        },
        "id": "6X8Q3qhcx6M3",
        "outputId": "75f41f3d-e2cf-47d5-fce7-7e428558a2ce"
      },
      "id": "6X8Q3qhcx6M3",
      "execution_count": 25,
      "outputs": [
        {
          "output_type": "execute_result",
          "data": {
            "text/plain": [
              "   apple  wax  sadness  luck  girl\n",
              "0    0.0  0.0      0.0   1.0   0.0\n",
              "1    0.0  7.0      0.0   0.0   0.0\n",
              "2    0.0  0.0      5.0   0.0   0.0\n",
              "3    0.0  4.0      2.0   0.0   0.0\n",
              "4    0.0  0.0      0.0   0.0   6.0"
            ],
            "text/html": [
              "\n",
              "  <div id=\"df-16feeeaf-6106-4e8d-9a18-e286f0d714df\">\n",
              "    <div class=\"colab-df-container\">\n",
              "      <div>\n",
              "<style scoped>\n",
              "    .dataframe tbody tr th:only-of-type {\n",
              "        vertical-align: middle;\n",
              "    }\n",
              "\n",
              "    .dataframe tbody tr th {\n",
              "        vertical-align: top;\n",
              "    }\n",
              "\n",
              "    .dataframe thead th {\n",
              "        text-align: right;\n",
              "    }\n",
              "</style>\n",
              "<table border=\"1\" class=\"dataframe\">\n",
              "  <thead>\n",
              "    <tr style=\"text-align: right;\">\n",
              "      <th></th>\n",
              "      <th>apple</th>\n",
              "      <th>wax</th>\n",
              "      <th>sadness</th>\n",
              "      <th>luck</th>\n",
              "      <th>girl</th>\n",
              "    </tr>\n",
              "  </thead>\n",
              "  <tbody>\n",
              "    <tr>\n",
              "      <th>0</th>\n",
              "      <td>0.0</td>\n",
              "      <td>0.0</td>\n",
              "      <td>0.0</td>\n",
              "      <td>1.0</td>\n",
              "      <td>0.0</td>\n",
              "    </tr>\n",
              "    <tr>\n",
              "      <th>1</th>\n",
              "      <td>0.0</td>\n",
              "      <td>7.0</td>\n",
              "      <td>0.0</td>\n",
              "      <td>0.0</td>\n",
              "      <td>0.0</td>\n",
              "    </tr>\n",
              "    <tr>\n",
              "      <th>2</th>\n",
              "      <td>0.0</td>\n",
              "      <td>0.0</td>\n",
              "      <td>5.0</td>\n",
              "      <td>0.0</td>\n",
              "      <td>0.0</td>\n",
              "    </tr>\n",
              "    <tr>\n",
              "      <th>3</th>\n",
              "      <td>0.0</td>\n",
              "      <td>4.0</td>\n",
              "      <td>2.0</td>\n",
              "      <td>0.0</td>\n",
              "      <td>0.0</td>\n",
              "    </tr>\n",
              "    <tr>\n",
              "      <th>4</th>\n",
              "      <td>0.0</td>\n",
              "      <td>0.0</td>\n",
              "      <td>0.0</td>\n",
              "      <td>0.0</td>\n",
              "      <td>6.0</td>\n",
              "    </tr>\n",
              "  </tbody>\n",
              "</table>\n",
              "</div>\n",
              "      <button class=\"colab-df-convert\" onclick=\"convertToInteractive('df-16feeeaf-6106-4e8d-9a18-e286f0d714df')\"\n",
              "              title=\"Convert this dataframe to an interactive table.\"\n",
              "              style=\"display:none;\">\n",
              "        \n",
              "  <svg xmlns=\"http://www.w3.org/2000/svg\" height=\"24px\"viewBox=\"0 0 24 24\"\n",
              "       width=\"24px\">\n",
              "    <path d=\"M0 0h24v24H0V0z\" fill=\"none\"/>\n",
              "    <path d=\"M18.56 5.44l.94 2.06.94-2.06 2.06-.94-2.06-.94-.94-2.06-.94 2.06-2.06.94zm-11 1L8.5 8.5l.94-2.06 2.06-.94-2.06-.94L8.5 2.5l-.94 2.06-2.06.94zm10 10l.94 2.06.94-2.06 2.06-.94-2.06-.94-.94-2.06-.94 2.06-2.06.94z\"/><path d=\"M17.41 7.96l-1.37-1.37c-.4-.4-.92-.59-1.43-.59-.52 0-1.04.2-1.43.59L10.3 9.45l-7.72 7.72c-.78.78-.78 2.05 0 2.83L4 21.41c.39.39.9.59 1.41.59.51 0 1.02-.2 1.41-.59l7.78-7.78 2.81-2.81c.8-.78.8-2.07 0-2.86zM5.41 20L4 18.59l7.72-7.72 1.47 1.35L5.41 20z\"/>\n",
              "  </svg>\n",
              "      </button>\n",
              "      \n",
              "  <style>\n",
              "    .colab-df-container {\n",
              "      display:flex;\n",
              "      flex-wrap:wrap;\n",
              "      gap: 12px;\n",
              "    }\n",
              "\n",
              "    .colab-df-convert {\n",
              "      background-color: #E8F0FE;\n",
              "      border: none;\n",
              "      border-radius: 50%;\n",
              "      cursor: pointer;\n",
              "      display: none;\n",
              "      fill: #1967D2;\n",
              "      height: 32px;\n",
              "      padding: 0 0 0 0;\n",
              "      width: 32px;\n",
              "    }\n",
              "\n",
              "    .colab-df-convert:hover {\n",
              "      background-color: #E2EBFA;\n",
              "      box-shadow: 0px 1px 2px rgba(60, 64, 67, 0.3), 0px 1px 3px 1px rgba(60, 64, 67, 0.15);\n",
              "      fill: #174EA6;\n",
              "    }\n",
              "\n",
              "    [theme=dark] .colab-df-convert {\n",
              "      background-color: #3B4455;\n",
              "      fill: #D2E3FC;\n",
              "    }\n",
              "\n",
              "    [theme=dark] .colab-df-convert:hover {\n",
              "      background-color: #434B5C;\n",
              "      box-shadow: 0px 1px 3px 1px rgba(0, 0, 0, 0.15);\n",
              "      filter: drop-shadow(0px 1px 2px rgba(0, 0, 0, 0.3));\n",
              "      fill: #FFFFFF;\n",
              "    }\n",
              "  </style>\n",
              "\n",
              "      <script>\n",
              "        const buttonEl =\n",
              "          document.querySelector('#df-16feeeaf-6106-4e8d-9a18-e286f0d714df button.colab-df-convert');\n",
              "        buttonEl.style.display =\n",
              "          google.colab.kernel.accessAllowed ? 'block' : 'none';\n",
              "\n",
              "        async function convertToInteractive(key) {\n",
              "          const element = document.querySelector('#df-16feeeaf-6106-4e8d-9a18-e286f0d714df');\n",
              "          const dataTable =\n",
              "            await google.colab.kernel.invokeFunction('convertToInteractive',\n",
              "                                                     [key], {});\n",
              "          if (!dataTable) return;\n",
              "\n",
              "          const docLinkHtml = 'Like what you see? Visit the ' +\n",
              "            '<a target=\"_blank\" href=https://colab.research.google.com/notebooks/data_table.ipynb>data table notebook</a>'\n",
              "            + ' to learn more about interactive tables.';\n",
              "          element.innerHTML = '';\n",
              "          dataTable['output_type'] = 'display_data';\n",
              "          await google.colab.output.renderOutput(dataTable, element);\n",
              "          const docLink = document.createElement('div');\n",
              "          docLink.innerHTML = docLinkHtml;\n",
              "          element.appendChild(docLink);\n",
              "        }\n",
              "      </script>\n",
              "    </div>\n",
              "  </div>\n",
              "  "
            ]
          },
          "metadata": {},
          "execution_count": 25
        }
      ]
    },
    {
      "cell_type": "code",
      "source": [
        "b = csr_matrix(a)"
      ],
      "metadata": {
        "id": "NgWbdgMLynwO"
      },
      "id": "NgWbdgMLynwO",
      "execution_count": 26,
      "outputs": []
    },
    {
      "cell_type": "code",
      "source": [
        "b"
      ],
      "metadata": {
        "colab": {
          "base_uri": "https://localhost:8080/"
        },
        "id": "1YeCkoUay3Xa",
        "outputId": "708d1cf4-d3d4-47e2-98fe-cd34d931841a"
      },
      "id": "1YeCkoUay3Xa",
      "execution_count": 27,
      "outputs": [
        {
          "output_type": "execute_result",
          "data": {
            "text/plain": [
              "<5x5 sparse matrix of type '<class 'numpy.float64'>'\n",
              "\twith 6 stored elements in Compressed Sparse Row format>"
            ]
          },
          "metadata": {},
          "execution_count": 27
        }
      ]
    },
    {
      "cell_type": "code",
      "source": [
        "b.todense()"
      ],
      "metadata": {
        "colab": {
          "base_uri": "https://localhost:8080/"
        },
        "id": "IcyO3dETy4Mi",
        "outputId": "f364926c-1d03-434c-b6fe-368e2e75930d"
      },
      "id": "IcyO3dETy4Mi",
      "execution_count": 28,
      "outputs": [
        {
          "output_type": "execute_result",
          "data": {
            "text/plain": [
              "matrix([[0., 0., 0., 1., 0.],\n",
              "        [0., 7., 0., 0., 0.],\n",
              "        [0., 0., 5., 0., 0.],\n",
              "        [0., 4., 2., 0., 0.],\n",
              "        [0., 0., 0., 0., 6.]])"
            ]
          },
          "metadata": {},
          "execution_count": 28
        }
      ]
    },
    {
      "cell_type": "code",
      "source": [
        "b.nonzero()"
      ],
      "metadata": {
        "colab": {
          "base_uri": "https://localhost:8080/"
        },
        "id": "lqdO4d-Qz5F0",
        "outputId": "dc023adb-33f6-48be-b35e-ff58374d13fe"
      },
      "id": "lqdO4d-Qz5F0",
      "execution_count": 29,
      "outputs": [
        {
          "output_type": "execute_result",
          "data": {
            "text/plain": [
              "(array([0, 1, 2, 3, 3, 4], dtype=int32),\n",
              " array([3, 1, 2, 1, 2, 4], dtype=int32))"
            ]
          },
          "metadata": {},
          "execution_count": 29
        }
      ]
    },
    {
      "cell_type": "code",
      "source": [
        "b.data"
      ],
      "metadata": {
        "colab": {
          "base_uri": "https://localhost:8080/"
        },
        "id": "S0kHE6oD0HGO",
        "outputId": "e00b8d38-1c08-4e98-ca6e-77b6399832bb"
      },
      "id": "S0kHE6oD0HGO",
      "execution_count": 30,
      "outputs": [
        {
          "output_type": "execute_result",
          "data": {
            "text/plain": [
              "array([1., 7., 5., 4., 2., 6.])"
            ]
          },
          "metadata": {},
          "execution_count": 30
        }
      ]
    },
    {
      "cell_type": "code",
      "source": [
        "from sklearn.feature_extraction.text import CountVectorizer\n",
        "from sklearn.model_selection import train_test_split"
      ],
      "metadata": {
        "id": "ZcqBjQD70NOt"
      },
      "id": "ZcqBjQD70NOt",
      "execution_count": 36,
      "outputs": []
    },
    {
      "cell_type": "code",
      "source": [
        "train_df, test_df = train_test_split(data, test_size=0.5)"
      ],
      "metadata": {
        "id": "hTczfCtv1ClK"
      },
      "id": "hTczfCtv1ClK",
      "execution_count": 38,
      "outputs": []
    },
    {
      "cell_type": "code",
      "source": [
        "len(train_df)"
      ],
      "metadata": {
        "colab": {
          "base_uri": "https://localhost:8080/"
        },
        "id": "V6zUGAoF1Te8",
        "outputId": "9dbae473-c705-4188-e87b-58426cdd62bd"
      },
      "id": "V6zUGAoF1Te8",
      "execution_count": 39,
      "outputs": [
        {
          "output_type": "execute_result",
          "data": {
            "text/plain": [
              "25000"
            ]
          },
          "metadata": {},
          "execution_count": 39
        }
      ]
    },
    {
      "cell_type": "code",
      "source": [
        "train_df['sentiment'].value_counts()"
      ],
      "metadata": {
        "colab": {
          "base_uri": "https://localhost:8080/"
        },
        "id": "l0vQnim_1XEm",
        "outputId": "61d6209f-c61c-4161-b3d2-74a5c47f2b9d"
      },
      "id": "l0vQnim_1XEm",
      "execution_count": 40,
      "outputs": [
        {
          "output_type": "execute_result",
          "data": {
            "text/plain": [
              "0    12528\n",
              "1    12472\n",
              "Name: sentiment, dtype: int64"
            ]
          },
          "metadata": {},
          "execution_count": 40
        }
      ]
    },
    {
      "cell_type": "code",
      "source": [
        "%%time\n",
        "cv = CountVectorizer(ngram_range=(1, 2))\n",
        "X_train_sparse = cv.fit_transform(train_df['review'])"
      ],
      "metadata": {
        "colab": {
          "base_uri": "https://localhost:8080/"
        },
        "id": "kaV7MmdA0aCp",
        "outputId": "68dc7c0b-e590-4957-fbc2-e594610fccc9"
      },
      "id": "kaV7MmdA0aCp",
      "execution_count": 64,
      "outputs": [
        {
          "output_type": "stream",
          "name": "stdout",
          "text": [
            "CPU times: user 20.8 s, sys: 699 ms, total: 21.5 s\n",
            "Wall time: 21.6 s\n"
          ]
        }
      ]
    },
    {
      "cell_type": "code",
      "source": [
        "cv.vocabulary_"
      ],
      "metadata": {
        "colab": {
          "base_uri": "https://localhost:8080/"
        },
        "id": "PJB-EfEF0cDn",
        "outputId": "f122564d-b096-4b8b-cba1-0ba96f39b2b5"
      },
      "id": "PJB-EfEF0cDn",
      "execution_count": 65,
      "outputs": [
        {
          "output_type": "execute_result",
          "data": {
            "text/plain": [
              "{'the': 1293191,\n",
              " 'peace': 989268,\n",
              " 'and': 66313,\n",
              " 'beauty': 153695,\n",
              " 'of': 918479,\n",
              " 'koyaanisqatsi': 741064,\n",
              " 'was': 1436398,\n",
              " 'powerful': 1026864,\n",
              " 'affirmation': 35472,\n",
              " 'natural': 883737,\n",
              " 'world': 1498244,\n",
              " 'in': 655863,\n",
              " 'naqoyqatsi': 881835,\n",
              " 'we': 1447938,\n",
              " 'are': 100929,\n",
              " 'assaulted': 120206,\n",
              " 'by': 223353,\n",
              " 'images': 650673,\n",
              " 'synthetic': 1266142,\n",
              " 'competitive': 292661,\n",
              " 'violent': 1425878,\n",
              " 'digital': 366377,\n",
              " 'destructive': 357742,\n",
              " 'constructs': 302770,\n",
              " 'our': 964959,\n",
              " 'culture': 328679,\n",
              " 'br': 197320,\n",
              " 'some': 1199918,\n",
              " 'liberties': 763697,\n",
              " 'taken': 1268190,\n",
              " 'with': 1481896,\n",
              " 'posterization': 1025284,\n",
              " 'distressing': 377344,\n",
              " 'much': 869103,\n",
              " 'slow': 1189063,\n",
              " 'motion': 860593,\n",
              " 'connections': 299612,\n",
              " 'between': 171820,\n",
              " 'sequences': 1151299,\n",
              " 'inscrutable': 674643,\n",
              " 'if': 647609,\n",
              " 'there': 1322552,\n",
              " 'any': 92498,\n",
              " 'is': 689118,\n",
              " 'defined': 347576,\n",
              " 'at': 121857,\n",
              " 'film': 479214,\n",
              " 'end': 418921,\n",
              " 'missed': 844071,\n",
              " 'opportunity': 952914,\n",
              " 'to': 1349860,\n",
              " 'place': 1006949,\n",
              " 'context': 304229,\n",
              " 'difficult': 365887,\n",
              " 'watch': 1442888,\n",
              " 'quality': 1053124,\n",
              " 'archival': 100732,\n",
              " 'footage': 500128,\n",
              " 'uneven': 1395428,\n",
              " 'it': 699771,\n",
              " 'most': 857527,\n",
              " 'redeeming': 1078335,\n",
              " 'qualities': 1053044,\n",
              " 'its': 705761,\n",
              " 'theme': 1319749,\n",
              " 'hypnotic': 644892,\n",
              " 'score': 1133678,\n",
              " 'philip': 1000542,\n",
              " 'glass': 547933,\n",
              " 'the peace': 1306717,\n",
              " 'peace and': 989274,\n",
              " 'and beauty': 67727,\n",
              " 'beauty of': 153809,\n",
              " 'of koyaanisqatsi': 925931,\n",
              " 'koyaanisqatsi was': 741068,\n",
              " 'was powerful': 1439766,\n",
              " 'powerful affirmation': 1026871,\n",
              " 'affirmation of': 35477,\n",
              " 'of the': 931738,\n",
              " 'the natural': 1305614,\n",
              " 'natural world': 883958,\n",
              " 'world in': 1498572,\n",
              " 'in naqoyqatsi': 660645,\n",
              " 'naqoyqatsi we': 881838,\n",
              " 'we are': 1447980,\n",
              " 'are assaulted': 101179,\n",
              " 'assaulted by': 120209,\n",
              " 'by images': 225658,\n",
              " 'images of': 650754,\n",
              " 'the synthetic': 1311421,\n",
              " 'synthetic the': 1266147,\n",
              " 'the competitive': 1297124,\n",
              " 'competitive the': 292677,\n",
              " 'the violent': 1313190,\n",
              " 'violent and': 1425887,\n",
              " 'and the': 82770,\n",
              " 'the digital': 1298484,\n",
              " 'digital the': 366442,\n",
              " 'the destructive': 1298374,\n",
              " 'destructive constructs': 357749,\n",
              " 'constructs of': 302776,\n",
              " 'of our': 928008,\n",
              " 'our culture': 965171,\n",
              " 'culture br': 328707,\n",
              " 'br br': 197943,\n",
              " 'br some': 201767,\n",
              " 'some liberties': 1201513,\n",
              " 'liberties are': 763700,\n",
              " 'are taken': 104696,\n",
              " 'taken with': 1268381,\n",
              " 'with the': 1488733,\n",
              " 'the images': 1302502,\n",
              " 'images with': 650804,\n",
              " 'with posterization': 1487067,\n",
              " 'posterization distressing': 1025285,\n",
              " 'distressing and': 377345,\n",
              " 'and much': 77122,\n",
              " 'much slow': 870269,\n",
              " 'slow motion': 1189188,\n",
              " 'motion the': 860701,\n",
              " 'the connections': 1297262,\n",
              " 'connections between': 299616,\n",
              " 'between the': 172902,\n",
              " 'the sequences': 1309561,\n",
              " 'sequences are': 1151309,\n",
              " 'are inscrutable': 102888,\n",
              " 'inscrutable if': 674649,\n",
              " 'if there': 648689,\n",
              " 'there are': 1322618,\n",
              " 'are any': 101129,\n",
              " 'any naqoyqatsi': 93547,\n",
              " 'naqoyqatsi is': 881837,\n",
              " 'is defined': 691064,\n",
              " 'defined at': 347579,\n",
              " 'at the': 123958,\n",
              " 'the film': 1300218,\n",
              " 'film end': 480317,\n",
              " 'end missed': 419306,\n",
              " 'missed opportunity': 844171,\n",
              " 'opportunity to': 952972,\n",
              " 'to place': 1355574,\n",
              " 'place the': 1007295,\n",
              " 'images in': 650733,\n",
              " 'in context': 657594,\n",
              " 'context br': 304239,\n",
              " 'br the': 202134,\n",
              " 'film is': 480985,\n",
              " 'is difficult': 691215,\n",
              " 'difficult to': 366029,\n",
              " 'to watch': 1358278,\n",
              " 'watch the': 1443737,\n",
              " 'the quality': 1307964,\n",
              " 'quality of': 1053324,\n",
              " 'the archival': 1294299,\n",
              " 'archival footage': 100735,\n",
              " 'footage uneven': 500295,\n",
              " 'uneven and': 1395430,\n",
              " 'and it': 74946,\n",
              " 'it most': 702829,\n",
              " 'most redeeming': 858844,\n",
              " 'redeeming qualities': 1078375,\n",
              " 'qualities are': 1053051,\n",
              " 'are its': 102976,\n",
              " 'its theme': 707987,\n",
              " 'theme and': 1319761,\n",
              " 'the hypnotic': 1302393,\n",
              " 'hypnotic score': 644916,\n",
              " 'score of': 1133845,\n",
              " 'of philip': 928426,\n",
              " 'philip glass': 1000568,\n",
              " 'amazed': 58439,\n",
              " 'about': 14893,\n",
              " 'this': 1330921,\n",
              " 'early': 403244,\n",
              " 'performance': 994328,\n",
              " 'clint': 278162,\n",
              " 'eastwood': 405129,\n",
              " 'had': 574260,\n",
              " 'not': 904501,\n",
              " 'read': 1068023,\n",
              " 'summary': 1254410,\n",
              " 'when': 1460394,\n",
              " 'decided': 345147,\n",
              " 'on': 940508,\n",
              " 'tv': 1383230,\n",
              " 'due': 397815,\n",
              " 'mr': 867626,\n",
              " 'expected': 449221,\n",
              " 'nice': 894116,\n",
              " 'shootings': 1166835,\n",
              " 'no': 897828,\n",
              " 'deep': 346283,\n",
              " 'story': 1236175,\n",
              " 'quite': 1056146,\n",
              " 'mistaken': 844996,\n",
              " 'found': 510852,\n",
              " 'couple': 314726,\n",
              " 'topics': 1364432,\n",
              " 'unusually': 1403627,\n",
              " 'explicitly': 451407,\n",
              " 'addressed': 31354,\n",
              " 'until': 1402935,\n",
              " 'couldn': 313199,\n",
              " 'make': 801495,\n",
              " 'up': 1404027,\n",
              " 'my': 875892,\n",
              " 'mind': 839009,\n",
              " 'who': 1469355,\n",
              " 'good': 552951,\n",
              " 'bad': 136259,\n",
              " 'movie': 862524,\n",
              " 'definitely': 347768,\n",
              " 'typical': 1387524,\n",
              " 'but': 218660,\n",
              " 'surely': 1258749,\n",
              " 'worth': 1500462,\n",
              " 'watching': 1444531,\n",
              " 'was amazed': 1436613,\n",
              " 'amazed about': 58440,\n",
              " 'about this': 17578,\n",
              " 'this early': 1332223,\n",
              " 'early performance': 403531,\n",
              " 'performance of': 994601,\n",
              " 'of clint': 921095,\n",
              " 'clint eastwood': 278171,\n",
              " 'eastwood had': 405168,\n",
              " 'had not': 575267,\n",
              " 'not read': 906984,\n",
              " 'read summary': 1068334,\n",
              " 'summary of': 1254462,\n",
              " 'film when': 482851,\n",
              " 'when decided': 1460877,\n",
              " 'decided to': 345193,\n",
              " 'watch it': 1443318,\n",
              " 'it on': 703012,\n",
              " 'on tv': 944404,\n",
              " 'tv due': 1383402,\n",
              " 'due to': 397860,\n",
              " 'to mr': 1354896,\n",
              " 'mr eastwood': 867852,\n",
              " 'eastwood expected': 405160,\n",
              " 'expected some': 449393,\n",
              " 'some nice': 1201797,\n",
              " 'nice shootings': 894638,\n",
              " 'shootings and': 1166836,\n",
              " 'and no': 77455,\n",
              " 'no deep': 898391,\n",
              " 'deep story': 346511,\n",
              " 'story was': 1237466,\n",
              " 'was quite': 1439923,\n",
              " 'quite mistaken': 1056710,\n",
              " 'mistaken found': 845016,\n",
              " 'found couple': 510926,\n",
              " 'couple of': 314960,\n",
              " 'of topics': 931956,\n",
              " 'topics unusually': 1364464,\n",
              " 'unusually explicitly': 1403645,\n",
              " 'explicitly addressed': 451410,\n",
              " 'addressed and': 31356,\n",
              " 'and until': 83786,\n",
              " 'until the': 1403239,\n",
              " 'the end': 1299406,\n",
              " 'end couldn': 419053,\n",
              " 'couldn make': 313335,\n",
              " 'make up': 802440,\n",
              " 'up my': 1405079,\n",
              " 'my mind': 876942,\n",
              " 'mind about': 839012,\n",
              " 'about who': 17815,\n",
              " 'who good': 1470317,\n",
              " 'good and': 553041,\n",
              " 'and who': 84419,\n",
              " 'who bad': 1469515,\n",
              " 'bad this': 137410,\n",
              " 'this movie': 1333679,\n",
              " 'movie is': 864177,\n",
              " 'is definitely': 691070,\n",
              " 'definitely not': 348036,\n",
              " 'not typical': 907762,\n",
              " 'typical eastwood': 1387650,\n",
              " 'eastwood but': 405142,\n",
              " 'but surely': 221821,\n",
              " 'surely worth': 1258922,\n",
              " 'worth watching': 1500747,\n",
              " 'really': 1071576,\n",
              " 'enjoyed': 423578,\n",
              " 'first': 489818,\n",
              " 'half': 577239,\n",
              " 'hour': 634865,\n",
              " 'wow': 1502542,\n",
              " 'did': 362677,\n",
              " 'turn': 1382178,\n",
              " 'corny': 310228,\n",
              " 'or': 953554,\n",
              " 'should': 1168831,\n",
              " 'say': 1125886,\n",
              " 'just': 723031,\n",
              " 'plain': 1007820,\n",
              " 'stupid': 1245212,\n",
              " 'another': 89374,\n",
              " 'example': 444355,\n",
              " 'outdated': 967931,\n",
              " 'humor': 641453,\n",
              " 'might': 836251,\n",
              " 'have': 589123,\n",
              " 'been': 157442,\n",
              " 'funny': 526087,\n",
              " '1940': 3847,\n",
              " 'now': 910526,\n",
              " 'even': 435692,\n",
              " 'close': 278712,\n",
              " 'dick': 362293,\n",
              " 'powell': 1026473,\n",
              " 'always': 56268,\n",
              " 'interesting': 679789,\n",
              " 'especially': 432137,\n",
              " 'liked': 771568,\n",
              " 'him': 614042,\n",
              " 'once': 944731,\n",
              " 'he': 593761,\n",
              " 'started': 1226094,\n",
              " 'switching': 1264596,\n",
              " 'from': 518776,\n",
              " 'his': 617021,\n",
              " 'boyish': 196881,\n",
              " 'looks': 785355,\n",
              " 'high': 611754,\n",
              " 'voice': 1428674,\n",
              " 'busby': 217784,\n",
              " 'berkeley': 168147,\n",
              " 'musicals': 874567,\n",
              " 'where': 1462699,\n",
              " 'mature': 819153,\n",
              " 'sounds': 1210162,\n",
              " 'too': 1361938,\n",
              " 'fine': 487675,\n",
              " 'as': 110976,\n",
              " 'jimmy': 715698,\n",
              " 'macdonald': 795668,\n",
              " 'rest': 1092737,\n",
              " 'cast': 244504,\n",
              " 'played': 1010275,\n",
              " 'characters': 256723,\n",
              " 'worst': 1499884,\n",
              " 'being': 162592,\n",
              " 'boss': 192610,\n",
              " 'raymond': 1066157,\n",
              " 'walburn': 1431677,\n",
              " 'maxford': 819738,\n",
              " 'house': 635407,\n",
              " 'coffee': 282079,\n",
              " 'company': 291495,\n",
              " 'nothing': 908727,\n",
              " 'shout': 1169537,\n",
              " 'all': 46348,\n",
              " 'time': 1345142,\n",
              " 'brutal': 212256,\n",
              " 'hear': 598023,\n",
              " 'big': 174130,\n",
              " 'detriment': 358925,\n",
              " 'really enjoyed': 1072132,\n",
              " 'enjoyed the': 423783,\n",
              " 'the first': 1300286,\n",
              " 'first half': 490348,\n",
              " 'half hour': 577431,\n",
              " 'hour of': 635042,\n",
              " 'of this': 931797,\n",
              " 'movie but': 862963,\n",
              " 'but wow': 222320,\n",
              " 'wow did': 1502569,\n",
              " 'did it': 363070,\n",
              " 'it turn': 704737,\n",
              " 'turn corny': 1382230,\n",
              " 'corny or': 310307,\n",
              " 'or should': 957308,\n",
              " 'should say': 1169190,\n",
              " 'say just': 1126275,\n",
              " 'just plain': 724693,\n",
              " 'plain stupid': 1008004,\n",
              " 'stupid this': 1245725,\n",
              " 'this is': 1333173,\n",
              " 'is just': 693261,\n",
              " 'just another': 723125,\n",
              " 'another example': 89845,\n",
              " 'example of': 444534,\n",
              " 'of outdated': 928015,\n",
              " 'outdated humor': 967948,\n",
              " 'humor it': 641632,\n",
              " 'it might': 702752,\n",
              " 'might have': 836393,\n",
              " 'have been': 589336,\n",
              " 'been funny': 158243,\n",
              " 'funny in': 526417,\n",
              " 'in 1940': 655978,\n",
              " '1940 but': 3863,\n",
              " 'but not': 220901,\n",
              " 'not now': 906618,\n",
              " 'now not': 911186,\n",
              " 'not even': 905597,\n",
              " 'even close': 436072,\n",
              " 'close br': 278735,\n",
              " 'br dick': 198650,\n",
              " 'dick powell': 362359,\n",
              " 'powell is': 1026508,\n",
              " 'is always': 689431,\n",
              " 'always interesting': 56709,\n",
              " 'interesting to': 680444,\n",
              " 'watch especially': 1443165,\n",
              " 'especially liked': 432492,\n",
              " 'liked him': 771675,\n",
              " 'him once': 614939,\n",
              " 'once he': 944936,\n",
              " 'he started': 596298,\n",
              " 'started switching': 1226295,\n",
              " 'switching from': 1264604,\n",
              " 'from his': 520465,\n",
              " 'his boyish': 617612,\n",
              " 'boyish looks': 196890,\n",
              " 'looks and': 785377,\n",
              " 'and high': 73894,\n",
              " 'high voice': 612166,\n",
              " 'voice of': 1428823,\n",
              " 'the busby': 1295889,\n",
              " 'busby berkeley': 217785,\n",
              " 'berkeley musicals': 168165,\n",
              " 'musicals to': 874639,\n",
              " 'to where': 1358349,\n",
              " 'where he': 1463208,\n",
              " 'he mature': 595381,\n",
              " 'mature and': 819159,\n",
              " 'and sounds': 81589,\n",
              " 'sounds it': 1210242,\n",
              " 'it too': 704645,\n",
              " 'too br': 1362073,\n",
              " 'br he': 199478,\n",
              " 'he was': 596648,\n",
              " 'was fine': 1438091,\n",
              " 'fine as': 487709,\n",
              " 'as jimmy': 114321,\n",
              " 'jimmy macdonald': 715747,\n",
              " 'macdonald but': 795675,\n",
              " 'but the': 221896,\n",
              " 'the rest': 1308575,\n",
              " 'rest of': 1092826,\n",
              " 'the cast': 1296229,\n",
              " 'cast just': 244865,\n",
              " 'just played': 724699,\n",
              " 'played stupid': 1010720,\n",
              " 'stupid characters': 1245304,\n",
              " 'characters the': 257790,\n",
              " 'the worst': 1313838,\n",
              " 'worst being': 1499935,\n",
              " 'being the': 164507,\n",
              " 'the boss': 1295519,\n",
              " 'boss raymond': 192742,\n",
              " 'raymond walburn': 1066195,\n",
              " 'walburn of': 1431679,\n",
              " 'the maxford': 1304671,\n",
              " 'maxford house': 819739,\n",
              " 'house coffee': 635504,\n",
              " 'coffee company': 282100,\n",
              " 'company who': 291719,\n",
              " 'who did': 1469960,\n",
              " 'did nothing': 363195,\n",
              " 'nothing but': 908784,\n",
              " 'but shout': 221573,\n",
              " 'shout all': 1169540,\n",
              " 'all the': 48736,\n",
              " 'the time': 1311911,\n",
              " 'time he': 1345837,\n",
              " 'was brutal': 1436992,\n",
              " 'brutal to': 212406,\n",
              " 'to hear': 1353470,\n",
              " 'hear and': 598033,\n",
              " 'and was': 84238,\n",
              " 'was big': 1436859,\n",
              " 'big detriment': 174423,\n",
              " 'detriment to': 358930,\n",
              " 'to the': 1357705,\n",
              " 'the movie': 1305383,\n",
              " 'why': 1473867,\n",
              " 'that': 1285622,\n",
              " '50s': 10648,\n",
              " '60s': 11129,\n",
              " 'italians': 705456,\n",
              " 'made': 796839,\n",
              " 'so': 1194020,\n",
              " 'best': 168972,\n",
              " 'movies': 866204,\n",
              " 'then': 1320455,\n",
              " 'during': 399980,\n",
              " '70s': 11651,\n",
              " '80s': 12363,\n",
              " 'zombie': 1518340,\n",
              " 'cannibal': 236394,\n",
              " 'probably': 1037018,\n",
              " 'because': 154305,\n",
              " 'art': 109195,\n",
              " 'films': 483981,\n",
              " 'didn': 363583,\n",
              " 'money': 849425,\n",
              " 'unlike': 1399757,\n",
              " 'which': 1464446,\n",
              " 'created': 320300,\n",
              " 'americans': 61100,\n",
              " 'exploited': 451756,\n",
              " 'purely': 1050697,\n",
              " 'italian': 705182,\n",
              " 'creation': 320792,\n",
              " 'designed': 356042,\n",
              " 'mondo': 849379,\n",
              " 'exploitation': 451613,\n",
              " 'showcase': 1170908,\n",
              " 'possible': 1024291,\n",
              " 'artistic': 110231,\n",
              " 'integrity': 677700,\n",
              " 'getting': 541242,\n",
              " 'way': 1446444,\n",
              " 'here': 607781,\n",
              " 'eaten': 405577,\n",
              " 'alive': 46134,\n",
              " 'came': 232436,\n",
              " 'heyday': 610947,\n",
              " 'director': 369173,\n",
              " 'umberto': 1389893,\n",
              " 'lenzi': 759841,\n",
              " 'hadn': 576107,\n",
              " 'hit': 623310,\n",
              " 'stride': 1240992,\n",
              " 'yet': 1509655,\n",
              " 'genre': 536427,\n",
              " 'classic': 273776,\n",
              " 'ferox': 474239,\n",
              " 'still': 1231545,\n",
              " 'year': 1507778,\n",
              " 'away': 131844,\n",
              " 'plotting': 1015013,\n",
              " 'similar': 1176644,\n",
              " 'ripped': 1102181,\n",
              " 'off': 933351,\n",
              " 'ruggero': 1113204,\n",
              " 'deodato': 352822,\n",
              " 'seminal': 1148527,\n",
              " 'holocaust': 627331,\n",
              " 'woman': 1491912,\n",
              " 'janet': 711319,\n",
              " 'agren': 41278,\n",
              " 'receives': 1075331,\n",
              " 'word': 1495903,\n",
              " 'police': 1018036,\n",
              " 'they': 1325730,\n",
              " 've': 1415567,\n",
              " 'received': 1075195,\n",
              " '8mm': 12735,\n",
              " 'her': 603719,\n",
              " 'sister': 1181915,\n",
              " 'she': 1160916,\n",
              " 'gone': 552558,\n",
              " 'missing': 844349,\n",
              " 'africa': 36024,\n",
              " 'suspected': 1261552,\n",
              " 'tribal': 1375588,\n",
              " 'ritual': 1102843,\n",
              " 'depicted': 353252,\n",
              " 'may': 819830,\n",
              " 'something': 1204371,\n",
              " 'do': 378960,\n",
              " 'mel': 827872,\n",
              " 'ferrer': 474315,\n",
              " 'professor': 1040722,\n",
              " 'somethingoranother': 1205164,\n",
              " 'tells': 1278216,\n",
              " 'man': 805527,\n",
              " 'named': 880594,\n",
              " 'jonas': 719307,\n",
              " 'ivan': 708745,\n",
              " 'rassimov': 1063497,\n",
              " 'has': 585147,\n",
              " 'jonestown': 719654,\n",
              " 'like': 767009,\n",
              " 'cult': 328322,\n",
              " 'new': 891589,\n",
              " 'guinea': 570502,\n",
              " 'hires': 616882,\n",
              " 'guide': 570090,\n",
              " 'robert': 1104364,\n",
              " 'kerman': 730715,\n",
              " 'take': 1267569,\n",
              " 'through': 1341272,\n",
              " 'jungle': 722530,\n",
              " 'find': 486584,\n",
              " 'wouldn': 1502133,\n",
              " 'you': 1511161,\n",
              " 'know': 738724,\n",
              " 'full': 524193,\n",
              " 'cannibals': 236495,\n",
              " 'one': 945300,\n",
              " 'sentence': 1150095,\n",
              " 'sum': 1254299,\n",
              " 'seen': 1145560,\n",
              " 'them': 1318293,\n",
              " 'mostly': 859381,\n",
              " 'these': 1324274,\n",
              " 'steal': 1228397,\n",
              " 'shamelessly': 1159330,\n",
              " 'each': 402273,\n",
              " 'other': 961859,\n",
              " 'copied': 308796,\n",
              " 'retooled': 1094278,\n",
              " 'parts': 984196,\n",
              " 'for': 500588,\n",
              " 'run': 1113877,\n",
              " 'share': 1159810,\n",
              " 'same': 1120136,\n",
              " 'material': 817612,\n",
              " 'feature': 469709,\n",
              " 'traits': 1371341,\n",
              " 'awful': 132625,\n",
              " 'photography': 1001819,\n",
              " 'boring': 191497,\n",
              " 'scenery': 1129937,\n",
              " 'terrible': 1280431,\n",
              " 'dubbing': 397187,\n",
              " 'overacting': 970684,\n",
              " 'fans': 463355,\n",
              " 'will': 1476823,\n",
              " 'ball': 139203,\n",
              " 'since': 1179189,\n",
              " 'everyone': 441195,\n",
              " 'veteran': 1420268,\n",
              " 'eating': 405666,\n",
              " 'contest': 304103,\n",
              " 'exists': 448394,\n",
              " 'solely': 1199068,\n",
              " 'be': 146760,\n",
              " 'naked': 879919,\n",
              " 'raped': 1062570,\n",
              " 'peril': 996003,\n",
              " 'plenty': 1013628,\n",
              " 'gore': 555870,\n",
              " 'sickos': 1173897,\n",
              " 'out': 966099,\n",
              " 'actually': 28494,\n",
              " 'appear': 97941,\n",
              " 'native': 883560,\n",
              " 'eat': 405442,\n",
              " 'lunch': 793907,\n",
              " 'met': 833247,\n",
              " 'disguised': 374222,\n",
              " 'human': 640270,\n",
              " 'flesh': 494513,\n",
              " 'grand': 559865,\n",
              " 'tradition': 1369727,\n",
              " 'live': 778161,\n",
              " 'animal': 86801,\n",
              " 'shown': 1171614,\n",
              " 'onscreen': 950818,\n",
              " 'usually': 1410790,\n",
              " 'killed': 733844,\n",
              " 'shortly': 1167999,\n",
              " 'thereafter': 1323870,\n",
              " 'overall': 970784,\n",
              " 'experience': 449885,\n",
              " 'sure': 1258337,\n",
              " 'psychopaths': 1047795,\n",
              " 'excrement': 446906,\n",
              " 'entertaining': 426000,\n",
              " 'why is': 1474222,\n",
              " 'is it': 693136,\n",
              " 'it that': 704546,\n",
              " 'that in': 1288938,\n",
              " 'in the': 662947,\n",
              " 'the 50s': 1293451,\n",
              " '50s and': 10655,\n",
              " 'and 60s': 66431,\n",
              " '60s italians': 11178,\n",
              " 'italians made': 705480,\n",
              " 'made so': 797692,\n",
              " 'so of': 1195668,\n",
              " 'the best': 1295116,\n",
              " 'best movies': 169671,\n",
              " 'movies and': 866248,\n",
              " 'and then': 82783,\n",
              " 'then during': 1320923,\n",
              " 'during the': 400298,\n",
              " 'the 70s': 1293478,\n",
              " '70s and': 11661,\n",
              " 'and 80s': 66439,\n",
              " '80s made': 12449,\n",
              " 'made nothing': 797488,\n",
              " 'but zombie': 222358,\n",
              " 'zombie and': 1518350,\n",
              " 'and cannibal': 68606,\n",
              " 'cannibal movies': 236418,\n",
              " 'movies probably': 866810,\n",
              " 'probably because': 1037073,\n",
              " 'because art': 154371,\n",
              " 'art films': 109314,\n",
              " 'films didn': 484225,\n",
              " 'didn make': 363862,\n",
              " 'make any': 801539,\n",
              " 'any money': 93514,\n",
              " 'money the': 849781,\n",
              " 'the cannibal': 1296069,\n",
              " 'cannibal movie': 236417,\n",
              " 'movie unlike': 865894,\n",
              " 'unlike the': 1399923,\n",
              " 'the zombie': 1314015,\n",
              " 'zombie movie': 1518511,\n",
              " 'movie which': 866034,\n",
              " 'which was': 1466331,\n",
              " 'was created': 1437396,\n",
              " 'created by': 320324,\n",
              " 'by americans': 223565,\n",
              " 'americans and': 61107,\n",
              " 'and exploited': 71997,\n",
              " 'exploited by': 451760,\n",
              " 'by italians': 225764,\n",
              " 'italians is': 705476,\n",
              " 'is purely': 695040,\n",
              " 'purely italian': 1050752,\n",
              " 'italian creation': 705238,\n",
              " 'creation designed': 320806,\n",
              " 'designed as': 356045,\n",
              " 'as mondo': 115126,\n",
              " 'mondo exploitation': 849384,\n",
              " 'exploitation showcase': 451694,\n",
              " 'showcase and': 1170910,\n",
              " 'and to': 82984,\n",
              " 'to make': 1354529,\n",
              " 'make as': 801549,\n",
              " 'as much': 115192,\n",
              " 'much money': 869955,\n",
              " 'money as': 849451,\n",
              " 'as possible': 115820,\n",
              " 'possible no': 1024500,\n",
              " 'no artistic': 897954,\n",
              " 'artistic integrity': 110323,\n",
              " 'integrity getting': 677709,\n",
              " 'getting in': 541476,\n",
              " 'the way': 1313445,\n",
              " 'way here': 1446854,\n",
              " 'here eaten': 607998,\n",
              " 'eaten alive': 405578,\n",
              " 'alive came': 46164,\n",
              " 'came during': 232478,\n",
              " 'movie heyday': 864010,\n",
              " 'heyday the': 610958,\n",
              " 'the director': 1298539,\n",
              " 'director umberto': 370399,\n",
              " 'umberto lenzi': 1389897,\n",
              " 'lenzi hadn': 759850,\n",
              " 'hadn even': 576135,\n",
              " 'even hit': 436667,\n",
              " 'hit his': 623418,\n",
              " 'his stride': 621649,\n",
              " 'stride yet': 1241009,\n",
              " 'yet his': 1509946,\n",
              " 'his genre': 619060,\n",
              " 'genre classic': 536498,\n",
              " 'classic cannibal': 273874,\n",
              " 'cannibal ferox': 236406,\n",
              " 'ferox was': 474249,\n",
              " 'was still': 1440715,\n",
              " 'still year': 1232950,\n",
              " 'year away': 1507858,\n",
              " 'away br': 131892,\n",
              " 'br in': 199684,\n",
              " 'in plotting': 661204,\n",
              " 'plotting similar': 1015035,\n",
              " 'similar to': 1176937,\n",
              " 'to read': 1356026,\n",
              " 'read ripped': 1068289,\n",
              " 'ripped off': 1102197,\n",
              " 'off from': 933695,\n",
              " 'from ruggero': 521821,\n",
              " 'ruggero deodato': 1113205,\n",
              " 'deodato seminal': 352833,\n",
              " 'seminal cannibal': 1148532,\n",
              " 'cannibal classic': 236399,\n",
              " 'cannibal holocaust': 236415,\n",
              " 'holocaust woman': 627389,\n",
              " 'woman janet': 1492260,\n",
              " 'janet agren': 711320,\n",
              " 'agren receives': 41282,\n",
              " 'receives word': 1075385,\n",
              " 'word from': 1496030,\n",
              " 'from the': 522330,\n",
              " 'the police': 1307239,\n",
              " 'police that': 1018338,\n",
              " 'that they': 1292256,\n",
              " 'they ve': 1327458,\n",
              " 've received': 1415830,\n",
              " 'received 8mm': 1075198,\n",
              " '8mm film': 12742,\n",
              " 'film from': 480606,\n",
              " 'from her': 520435,\n",
              " 'her sister': 606817,\n",
              " 'sister she': 1182213,\n",
              " 'she gone': 1161637,\n",
              " 'gone missing': 552660,\n",
              " 'missing in': 844449,\n",
              " 'in africa': 656242,\n",
              " 'africa and': 36031,\n",
              " 'it suspected': 704428,\n",
              " 'suspected that': 1261573,\n",
              " 'that the': 1292238,\n",
              " 'the tribal': 1312268,\n",
              " 'tribal ritual': 1375603,\n",
              " 'ritual depicted': 1102854,\n",
              " 'depicted on': 353291,\n",
              " 'on the': 944243,\n",
              " 'film may': 481285,\n",
              " 'may have': 820027,\n",
              " 'have something': 591560,\n",
              " 'something to': 1205064,\n",
              " 'to do': 1352171,\n",
              " 'do with': 379892,\n",
              " 'with it': 1485346,\n",
              " 'it mel': 702713,\n",
              " 'mel ferrer': 827886,\n",
              " 'ferrer as': 474317,\n",
              " 'as professor': 115915,\n",
              " 'professor of': 1040806,\n",
              " 'of somethingoranother': 930791,\n",
              " 'somethingoranother tells': 1205165,\n",
              " 'tells her': 1278271,\n",
              " 'her that': 607146,\n",
              " 'that man': 1289702,\n",
              " 'man named': 806402,\n",
              " 'named jonas': 880870,\n",
              " 'jonas ivan': 719314,\n",
              " 'ivan rassimov': 708765,\n",
              " 'rassimov has': 1063500,\n",
              " 'has started': 587183,\n",
              " 'started jonestown': 1226206,\n",
              " 'jonestown like': 719658,\n",
              " 'like cult': 768009,\n",
              " 'cult in': 328392,\n",
              " 'in new': 660709,\n",
              " 'new guinea': 892042,\n",
              " 'guinea and': 570503,\n",
              " 'and that': 82768,\n",
              " 'that where': 1292839,\n",
              " 'where the': 1463911,\n",
              " 'the sister': 1310009,\n",
              " 'sister is': 1182079,\n",
              " 'is the': 696801,\n",
              " 'the woman': 1313761,\n",
              " 'woman hires': 1492223,\n",
              " 'hires guide': 616897,\n",
              " 'guide robert': 570148,\n",
              " 'robert kerman': 1104490,\n",
              " 'kerman to': 730718,\n",
              " 'to take': 1357574,\n",
              " 'take her': 1267786,\n",
              " 'her through': 607183,\n",
              " 'through the': 1342222,\n",
              " 'the jungle': 1303374,\n",
              " 'jungle to': 722620,\n",
              " 'to find': 1352828,\n",
              " 'find the': 487191,\n",
              " 'the cult': 1297820,\n",
              " 'cult and': 328330,\n",
              " 'and her': 73848,\n",
              " 'sister and': 1181932,\n",
              " 'and wouldn': 84627,\n",
              " 'wouldn you': 1502330,\n",
              " 'you know': 1512046,\n",
              " 'know it': 738980,\n",
              " 'it the': 704548,\n",
              " 'jungle is': 722577,\n",
              " 'is full': 692197,\n",
              " 'full of': 524371,\n",
              " 'of cannibals': 920543,\n",
              " 'cannibals br': 236498,\n",
              " 'br one': 200747,\n",
              " 'one sentence': 947344,\n",
              " 'sentence should': 1150133,\n",
              " 'should sum': 1169244,\n",
              " 'sum it': 1254309,\n",
              " 'it up': 704868,\n",
              " 'up if': 1404822,\n",
              " 'if you': 648846,\n",
              " 'you ve': 1512860,\n",
              " 've seen': 1415863,\n",
              " 'seen on': 1146165,\n",
              " 'on cannibal': 941059,\n",
              " 'movie you': 866108,\n",
              " 'seen them': 1146422,\n",
              " 'them all': 1318326,\n",
              " 'all mostly': 47890,\n",
              " 'mostly because': 859419,\n",
              " 'because these': 155083,\n",
              " 'these films': 1324753,\n",
              " 'films steal': 484824,\n",
              " 'steal shamelessly': 1228478,\n",
              " 'shamelessly from': 1159342,\n",
              " 'from each': 519915,\n",
              " 'each other': 402510,\n",
              " 'other lenzi': 962946,\n",
              " 'lenzi copied': 759846,\n",
              " 'copied cannibal': 308802,\n",
              " 'holocaust to': 627385,\n",
              " 'make this': 802399,\n",
              " 'this film': 1332522,\n",
              " 'film and': 479362,\n",
              " 'and retooled': 79931,\n",
              " 'retooled this': 1094280,\n",
              " 'this to': 1335230,\n",
              " 'make cannibal': 801618,\n",
              " 'ferox deodato': 474241,\n",
              " 'deodato copied': 352827,\n",
              " 'copied parts': 308816,\n",
              " 'parts of': 984355,\n",
              " 'this for': 1332587,\n",
              " 'for hit': 502905,\n",
              " 'hit and': 623328,\n",
              " 'and run': 80314,\n",
              " 'run and': 1113898,\n",
              " 'and because': 67731,\n",
              " 'because they': 155084,\n",
              " 'they all': 1325786,\n",
              " 'all share': 48452,\n",
              " 'share the': 1159902,\n",
              " 'the same': 1309117,\n",
              " 'same material': 1120730,\n",
              " 'material they': 817814,\n",
              " 'all feature': 47237,\n",
              " 'feature the': 469931,\n",
              " 'same traits': 1121166,\n",
              " 'traits awful': 1371347,\n",
              " 'awful photography': 132945,\n",
              " 'photography boring': 1001836,\n",
              " 'boring scenery': 191915,\n",
              " 'scenery terrible': 1130059,\n",
              " 'terrible dubbing': 1280567,\n",
              " 'dubbing overacting': 397228,\n",
              " 'overacting and': 970689,\n",
              " 'and exploitation': 71995,\n",
              " 'exploitation exploitation': 451647,\n",
              " 'exploitation genre': 451660,\n",
              " 'genre fans': 536549,\n",
              " 'fans will': 463608,\n",
              " 'will have': 1477273,\n",
              " 'have ball': 589310,\n",
              " 'ball since': 139320,\n",
              " 'since everyone': 1179439,\n",
              " 'everyone in': 441395,\n",
              " 'in it': 659613,\n",
              " 'it is': 702299,\n",
              " 'is genre': 692269,\n",
              " 'genre veteran': 536805,\n",
              " 'veteran rassimov': 1420353,\n",
              " 'rassimov and': 1063499,\n",
              " 'and kerman': 75358,\n",
              " 'kerman have': 730717,\n",
              " 'have scenery': 591390,\n",
              " 'scenery eating': 1129989,\n",
              " 'eating contest': 405701,\n",
              " 'contest agren': 304104,\n",
              " 'agren exists': 41280,\n",
              " 'exists solely': 448442,\n",
              " 'solely to': 1199098,\n",
              " 'to be': 1350540,\n",
              " 'be naked': 149370,\n",
              " 'naked raped': 880056,\n",
              " 'raped or': 1062596,\n",
              " 'or in': 955682,\n",
              " 'in peril': 661082,\n",
              " 'peril plenty': 996020,\n",
              " 'plenty gore': 1013643,\n",
              " 'gore for': 555969,\n",
              " 'for all': 500843,\n",
              " 'the sickos': 1309903,\n",
              " 'sickos out': 1173900,\n",
              " 'out there': 967529,\n",
              " 'there the': 1323679,\n",
              " 'the cannibals': 1296072,\n",
              " 'cannibals who': 236518,\n",
              " 'who do': 1470000,\n",
              " 'do actually': 378983,\n",
              " 'actually appear': 28556,\n",
              " 'appear to': 98088,\n",
              " 'be native': 149382,\n",
              " 'native cannibals': 883580,\n",
              " 'cannibals eat': 236500,\n",
              " 'eat lunch': 405514,\n",
              " 'lunch met': 793930,\n",
              " 'met disguised': 833277,\n",
              " 'disguised as': 374225,\n",
              " 'as human': 114046,\n",
              " 'human flesh': 640448,\n",
              " 'flesh and': 494518,\n",
              " 'and in': 74437,\n",
              " 'the grand': 1301312,\n",
              " 'grand tradition': 559996,\n",
              " 'tradition of': 1369765,\n",
              " 'of cannibal': 920540,\n",
              " 'movies any': 866254,\n",
              " ...}"
            ]
          },
          "metadata": {},
          "execution_count": 65
        }
      ]
    },
    {
      "cell_type": "code",
      "source": [
        "len(cv.vocabulary_)"
      ],
      "metadata": {
        "colab": {
          "base_uri": "https://localhost:8080/"
        },
        "id": "3-hdNl2A1zpg",
        "outputId": "7e86d4d8-157a-4b83-e8e0-c01e9f64b609"
      },
      "id": "3-hdNl2A1zpg",
      "execution_count": 66,
      "outputs": [
        {
          "output_type": "execute_result",
          "data": {
            "text/plain": [
              "1519400"
            ]
          },
          "metadata": {},
          "execution_count": 66
        }
      ]
    },
    {
      "cell_type": "code",
      "source": [
        "%%time\n",
        "X_test_sparce = cv.transform(test_df.review)"
      ],
      "metadata": {
        "colab": {
          "base_uri": "https://localhost:8080/"
        },
        "id": "Isa-kYNZ2DJg",
        "outputId": "247e5612-81ea-4722-bd44-c7303ab223af"
      },
      "id": "Isa-kYNZ2DJg",
      "execution_count": 67,
      "outputs": [
        {
          "output_type": "stream",
          "name": "stdout",
          "text": [
            "CPU times: user 12.8 s, sys: 43.1 ms, total: 12.8 s\n",
            "Wall time: 12.9 s\n"
          ]
        }
      ]
    },
    {
      "cell_type": "code",
      "source": [
        "X_train_sparse.shape, X_test_sparce.shape"
      ],
      "metadata": {
        "colab": {
          "base_uri": "https://localhost:8080/"
        },
        "id": "0VjSUo_R2MCn",
        "outputId": "12d5f1c3-0c29-439d-9dcc-6ded301b6862"
      },
      "id": "0VjSUo_R2MCn",
      "execution_count": 68,
      "outputs": [
        {
          "output_type": "execute_result",
          "data": {
            "text/plain": [
              "((25000, 1519400), (25000, 1519400))"
            ]
          },
          "metadata": {},
          "execution_count": 68
        }
      ]
    },
    {
      "cell_type": "code",
      "source": [
        "X_train_sparse"
      ],
      "metadata": {
        "colab": {
          "base_uri": "https://localhost:8080/"
        },
        "id": "ue6W3x9A2P4X",
        "outputId": "5dd73282-ad64-41c9-d2b5-620d7d5634d2"
      },
      "id": "ue6W3x9A2P4X",
      "execution_count": 69,
      "outputs": [
        {
          "output_type": "execute_result",
          "data": {
            "text/plain": [
              "<25000x1519400 sparse matrix of type '<class 'numpy.int64'>'\n",
              "\twith 8698071 stored elements in Compressed Sparse Row format>"
            ]
          },
          "metadata": {},
          "execution_count": 69
        }
      ]
    },
    {
      "cell_type": "code",
      "source": [
        "from sklearn.linear_model import LogisticRegression, SGDClassifier\n",
        "from sklearn.metrics import accuracy_score"
      ],
      "metadata": {
        "id": "k0bL-nE42Srq"
      },
      "id": "k0bL-nE42Srq",
      "execution_count": 70,
      "outputs": []
    },
    {
      "cell_type": "code",
      "source": [
        "y_train, y_test = train_df.sentiment, test_df.sentiment  "
      ],
      "metadata": {
        "id": "HmOtMQH63ABM"
      },
      "id": "HmOtMQH63ABM",
      "execution_count": 71,
      "outputs": []
    },
    {
      "cell_type": "code",
      "source": [
        "np.bincount(y_train), np.bincount(y_test)"
      ],
      "metadata": {
        "colab": {
          "base_uri": "https://localhost:8080/"
        },
        "id": "85tcmwGg4b_F",
        "outputId": "ed7c9084-7ace-4b2b-9b31-d06e80bc9856"
      },
      "id": "85tcmwGg4b_F",
      "execution_count": 72,
      "outputs": [
        {
          "output_type": "execute_result",
          "data": {
            "text/plain": [
              "(array([12528, 12472]), array([12472, 12528]))"
            ]
          },
          "metadata": {},
          "execution_count": 72
        }
      ]
    },
    {
      "cell_type": "code",
      "source": [
        "logit = LogisticRegression(random_state=17, n_jobs=-1)\n",
        "sgd_logit = SGDClassifier(max_iter=40, random_state=17, n_jobs=-1)"
      ],
      "metadata": {
        "id": "ZkxCUPpM4iO4"
      },
      "id": "ZkxCUPpM4iO4",
      "execution_count": 73,
      "outputs": []
    },
    {
      "cell_type": "code",
      "source": [
        "10 ** 6 / X_train_sparse.shape[0]"
      ],
      "metadata": {
        "colab": {
          "base_uri": "https://localhost:8080/"
        },
        "id": "7Vwiv2P84lFm",
        "outputId": "d385fcc1-147c-43b6-a89e-c9aa93b05f87"
      },
      "id": "7Vwiv2P84lFm",
      "execution_count": 74,
      "outputs": [
        {
          "output_type": "execute_result",
          "data": {
            "text/plain": [
              "40.0"
            ]
          },
          "metadata": {},
          "execution_count": 74
        }
      ]
    },
    {
      "cell_type": "code",
      "source": [
        "%%time\n",
        "logit.fit(X_train_sparse, y_train)"
      ],
      "metadata": {
        "colab": {
          "base_uri": "https://localhost:8080/"
        },
        "id": "TytTxC1k5EKN",
        "outputId": "c0c46beb-c435-4271-fc57-e07c8703b38c"
      },
      "id": "TytTxC1k5EKN",
      "execution_count": 75,
      "outputs": [
        {
          "output_type": "stream",
          "name": "stdout",
          "text": [
            "CPU times: user 1.04 s, sys: 214 ms, total: 1.25 s\n",
            "Wall time: 45.6 s\n"
          ]
        },
        {
          "output_type": "execute_result",
          "data": {
            "text/plain": [
              "LogisticRegression(n_jobs=-1, random_state=17)"
            ]
          },
          "metadata": {},
          "execution_count": 75
        }
      ]
    },
    {
      "cell_type": "code",
      "source": [
        "%%time\n",
        "sgd_logit.fit(X_train_sparse, y_train)"
      ],
      "metadata": {
        "colab": {
          "base_uri": "https://localhost:8080/"
        },
        "id": "lBWfH5jE5ZdH",
        "outputId": "d60fa4ce-3583-4034-f104-85cc343e8907"
      },
      "id": "lBWfH5jE5ZdH",
      "execution_count": 76,
      "outputs": [
        {
          "output_type": "stream",
          "name": "stdout",
          "text": [
            "CPU times: user 2.72 s, sys: 132 ms, total: 2.86 s\n",
            "Wall time: 2.74 s\n"
          ]
        },
        {
          "output_type": "execute_result",
          "data": {
            "text/plain": [
              "SGDClassifier(max_iter=40, n_jobs=-1, random_state=17)"
            ]
          },
          "metadata": {},
          "execution_count": 76
        }
      ]
    },
    {
      "cell_type": "code",
      "source": [
        "accuracy_score(y_test, logit.predict(X_test_sparce))"
      ],
      "metadata": {
        "colab": {
          "base_uri": "https://localhost:8080/"
        },
        "id": "dCVrj1rI6EKX",
        "outputId": "f5343a18-a507-4f60-ede7-c770f0fda0b8"
      },
      "id": "dCVrj1rI6EKX",
      "execution_count": 77,
      "outputs": [
        {
          "output_type": "execute_result",
          "data": {
            "text/plain": [
              "0.89852"
            ]
          },
          "metadata": {},
          "execution_count": 77
        }
      ]
    },
    {
      "cell_type": "code",
      "source": [
        "accuracy_score(y_test, sgd_logit.predict(X_test_sparce))"
      ],
      "metadata": {
        "colab": {
          "base_uri": "https://localhost:8080/"
        },
        "id": "-tUjtstQ6zzh",
        "outputId": "954ebde5-db3e-4a57-8d5f-e12980af9d53"
      },
      "id": "-tUjtstQ6zzh",
      "execution_count": 78,
      "outputs": [
        {
          "output_type": "execute_result",
          "data": {
            "text/plain": [
              "0.88184"
            ]
          },
          "metadata": {},
          "execution_count": 78
        }
      ]
    },
    {
      "cell_type": "code",
      "source": [
        "hash('be very nice.') % 10 ** 6"
      ],
      "metadata": {
        "colab": {
          "base_uri": "https://localhost:8080/"
        },
        "id": "KQJzWQj564VT",
        "outputId": "998bf5e1-d2cd-4525-fee6-7b2e10b83cbb"
      },
      "id": "KQJzWQj564VT",
      "execution_count": 83,
      "outputs": [
        {
          "output_type": "execute_result",
          "data": {
            "text/plain": [
              "89699"
            ]
          },
          "metadata": {},
          "execution_count": 83
        }
      ]
    }
  ],
  "metadata": {
    "kernelspec": {
      "display_name": "Python 3 (ipykernel)",
      "language": "python",
      "name": "python3"
    },
    "language_info": {
      "codemirror_mode": {
        "name": "ipython",
        "version": 3
      },
      "file_extension": ".py",
      "mimetype": "text/x-python",
      "name": "python",
      "nbconvert_exporter": "python",
      "pygments_lexer": "ipython3",
      "version": "3.9.7"
    },
    "colab": {
      "provenance": []
    }
  },
  "nbformat": 4,
  "nbformat_minor": 5
}